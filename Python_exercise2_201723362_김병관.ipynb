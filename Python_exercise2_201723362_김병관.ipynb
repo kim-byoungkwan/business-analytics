{
 "cells": [
  {
   "cell_type": "markdown",
   "metadata": {},
   "source": [
    "# 파이썬 스타일 코드2 - 연습해보기\n",
    "\n",
    "  \n",
    "# 실습코드\n",
    "-----------------------------------------------------------------------------------"
   ]
  },
  {
   "cell_type": "markdown",
   "metadata": {},
   "source": [
    "## 1. 람다함수\n",
    "- 람다(lambda) 함수는 함수의 이름 없이, 함수처럼 사용할 수 있는 익명의 함수를 말한다. 선형대수나 미적분 등의 과목을 수강하다 보면, 한 번쯤 람다 대수라는 표현을 들어 보았을 것이다. 람다 함수의 '람다'는 바로 이 람다 대수에서 유래하였다. 일반적으로 람다 함수는 이름을 지정하지 않아도 사용할 수 있다.  \n",
    "\n",
    "### 1.1. 기존 함수"
   ]
  },
  {
   "cell_type": "code",
   "execution_count": 1,
   "metadata": {},
   "outputs": [
    {
     "name": "stdout",
     "output_type": "stream",
     "text": [
      "5\n"
     ]
    }
   ],
   "source": [
    "def f(x,y):\n",
    "    return x + y\n",
    "\n",
    "# 임의의 파라미터 x,y에 의하여 결정되는 함수 f를 정의하고, \n",
    "# 함수 f를 x,y 파라미터의 합을 출력하는 함수로 정의한다.\n",
    "\n",
    "print(f(1,4))\n",
    "# 함수 f 를 이용하여 1,4의 합을 출력한다.\n"
   ]
  },
  {
   "cell_type": "markdown",
   "metadata": {},
   "source": [
    "### 1.2. lambda 함수 할당"
   ]
  },
  {
   "cell_type": "code",
   "execution_count": 3,
   "metadata": {},
   "outputs": [
    {
     "name": "stdout",
     "output_type": "stream",
     "text": [
      "5\n"
     ]
    }
   ],
   "source": [
    "f=lambda x,y: x + y\n",
    "# 함수 f의 정의를 lambda를 이용하여 x,y 변수에 대해서 한줄로 표현한 식으로\n",
    "# 임의의 변수 x,y에 대하여 두 변수의 합을 출력하는 함수 f를 의미한다.\n",
    "\n",
    "print(f(1,4))\n",
    "# 1과 4의 합 5가 출력된다."
   ]
  },
  {
   "cell_type": "markdown",
   "metadata": {},
   "source": [
    "### 1.3. 익명의 lambda 함수"
   ]
  },
  {
   "cell_type": "code",
   "execution_count": 5,
   "metadata": {},
   "outputs": [
    {
     "name": "stdout",
     "output_type": "stream",
     "text": [
      "5\n"
     ]
    }
   ],
   "source": [
    "print((lambda x, y:x + y)(1, 4))\n",
    "# lambda를 통해 정의한 함수 f의 표현을 이와 같이 함수 f를 명시하지 않고,\n",
    "# 파라미터 x,y에 할당되는 값 1,4를 바로 지정하여 파라미터에 지정된 값의 합을\n",
    "# 즉시 출력할 수 있다."
   ]
  },
  {
   "cell_type": "markdown",
   "metadata": {},
   "source": [
    "## 2. 맵리듀스\n",
    "### 2.1. map 함수\n",
    "연속 데이터를 저장하는 시퀀스 자료형에서 요소마다 같은 기능을 적용할 때 사용한다. 일반적으로 리스트나 튜플처럼 요소가 있는 시퀀스 자료형에 사용된다. 다음의 사용 예제를 보자."
   ]
  },
  {
   "cell_type": "code",
   "execution_count": 8,
   "metadata": {},
   "outputs": [
    {
     "name": "stdout",
     "output_type": "stream",
     "text": [
      "[1, 4, 9, 16, 25]\n"
     ]
    }
   ],
   "source": [
    "ex = [1,2,3,4,5]\n",
    "\n",
    "f = lambda x:x**2\n",
    "\n",
    "print(list(map(f, ex)))\n",
    "      \n",
    "#map 메소드를 이용해서, 정의한 f 함수를 ex 리스트의 모든 요소의 값에 적용하고\n",
    "#적용된 결과 값을 list화 하여 출력하는 함수이다."
   ]
  },
  {
   "cell_type": "markdown",
   "metadata": {},
   "source": [
    "- 코드 설명\n",
    "    - 위 코드에서는 먼저 ex라는 이름의 리스트를 만들고, 입력된 값을 제곱하는 람다함수 f를 생성하였다. 그리고 'map(함수이름, 리스트 데이터)'의 구조에서 map(f,ex) 코드를 실행한다. 이는 해당 코드로 함수 f를 ex의 각 요소에 매핑하라는 뜻이다.\n",
    "    - 파이썬 2.x와 3.x의 차이는 제너레이터의 사용인데 3.x 부터는 map()함수의 기본 반환이 제너레이터이므로 list() 함수를 사용해야 리스트로 반환된다.\n",
    "    - 제너레이터(generator)는 시퀀스 자료형의 데이터를 처리할 때, 실행 시점의 값을 생성하여 효율적으로 메모리를 관리할 수 있다는 장점이 있다.\n",
    "    - 만일 list를 붙이지 않는다면, 다음 코드처럼 코딩할 수도 있다. 여기서 함수는 반드시 람다함수일 필요는 없고, 일반 함수를 만들어 사용해도 문제 없다."
   ]
  },
  {
   "cell_type": "code",
   "execution_count": 9,
   "metadata": {},
   "outputs": [
    {
     "name": "stdout",
     "output_type": "stream",
     "text": [
      "1\n",
      "4\n",
      "9\n",
      "16\n",
      "25\n"
     ]
    }
   ],
   "source": [
    "ex=[1,2,3,4,5]\n",
    "\n",
    "f=lambda x:x**2\n",
    "\n",
    "for value in map(f,ex):\n",
    "    print(value)\n",
    "    \n",
    "# map 메소드를 이용하여, 정의한 f 함수를 ex 리스트의 모든 요소 값에 적용하면,\n",
    "# 적용된 모든 값을 요소값으로 하는 리스트가 출력되는데, 그 리스트의 모든 요소값을\n",
    "# value변수에 할당하여, 할당된 모든 값을 for문을 이용하여 출력한다."
   ]
  },
  {
   "cell_type": "markdown",
   "metadata": {},
   "source": [
    "- 리스트 컴프리헨션과 비교  \n",
    "\n",
    "최근에는 람다함수나 map() 함수를 프로그램 개발에 사용하는 것을 권장하지 않는다. 굳이 두 함수를 쓰지 않더라도 리스트 컴프리헨션 기법으로 얼마든지 같은 효과를 낼 수 있기 때문이다. 만약 위 코드를 리스트 컴프리헨션으로 변경하고자 한다면, 다음처럼 코딩하면 된다."
   ]
  },
  {
   "cell_type": "code",
   "execution_count": 10,
   "metadata": {},
   "outputs": [
    {
     "data": {
      "text/plain": [
       "[1, 4, 9, 16, 25]"
      ]
     },
     "execution_count": 10,
     "metadata": {},
     "output_type": "execute_result"
    }
   ],
   "source": [
    "ex = [1, 2, 3, 4, 5]\n",
    "\n",
    "[x**2 for x in ex]\n",
    "\n",
    "# []리스트의 요소 값은 x**2로 본질적으로 정의 되는데, 이때 변수 x는 ex리스트의 \n",
    "# 모든 요소값을 각각 할당한 값으로 정의된다.\n",
    "# 결과적으로 ex 리스트의 모든 요소값을 제곱한 값이 리스트의 요소가 되는 리스트가 출력된다."
   ]
  },
  {
   "cell_type": "markdown",
   "metadata": {},
   "source": [
    "- 한개 이상의 시퀀스 자료형 데이터의 처리  \n",
    "\n",
    "map()함수는 2개 이상의 시퀀스 자료형 데이터를 처리하는 데도 문제가 없다."
   ]
  },
  {
   "cell_type": "code",
   "execution_count": 11,
   "metadata": {},
   "outputs": [
    {
     "data": {
      "text/plain": [
       "[2, 4, 6, 8, 10]"
      ]
     },
     "execution_count": 11,
     "metadata": {},
     "output_type": "execute_result"
    }
   ],
   "source": [
    "ex=[1,2,3,4,5]\n",
    "\n",
    "f=lambda x,y:x+y\n",
    "\n",
    "list(map(f,ex,ex))\n",
    "\n",
    "# f함수를 동일한 list ex에 map 메소드로 묶어서 적용하므로,\n",
    "# ex리스트의 각 요소 값 1,2,3,4,5 가 모두 1:!로 대응되어 합해진 값을 요소로 하는\n",
    "# 하나의 리스트가 출력된다."
   ]
  },
  {
   "cell_type": "code",
   "execution_count": 12,
   "metadata": {},
   "outputs": [
    {
     "data": {
      "text/plain": [
       "[2, 4, 6, 8, 10]"
      ]
     },
     "execution_count": 12,
     "metadata": {},
     "output_type": "execute_result"
    }
   ],
   "source": [
    "[x+y for x,y in zip(ex,ex)] \n",
    "\n",
    "# zip 메소드는 각 인수에 동일한 개수의 요소값으로 이루어진 리스트를 지정하는 역할을 해주는데\n",
    "# 이 경우 zip메소드에 의해 묶여진 요소 값은 각각 x,y 변수에 할당되고,\n",
    "# 할당된 x,y 변수의 합 x+y를 요소로 하는 하나의 리스트가 출력된다."
   ]
  },
  {
   "cell_type": "markdown",
   "metadata": {},
   "source": [
    "## 2.2. reduce 함수\n",
    "- map() 함수와 다르지만 형제처럼 사용하는 함수로 리스트와 같은 시쿼스 자료형에 차례대로 함수를 적용하여 모든 값을 통합하는 함수이다.\n",
    "- lambda 함수와 함께 쓰여 좀 복잡해 보여 예전에는 많이 쓰였으나 최근 버전에서는 사용을 권장하지 않는다. 그러나 많은 코드들이 여전히 사용하고 있어 이해차원에서 배울 필요가 있다."
   ]
  },
  {
   "cell_type": "code",
   "execution_count": 13,
   "metadata": {},
   "outputs": [
    {
     "name": "stdout",
     "output_type": "stream",
     "text": [
      "15\n"
     ]
    }
   ],
   "source": [
    "from functools import reduce\n",
    "\n",
    "print(reduce(lambda x,y:x+y, [1,2,3,4,5]))\n",
    "\n",
    "# reduce 메소드의 첫번째 인자에는 함수가 할당되는데, 이 경우 두 임의의 변수 x,y를\n",
    "# 합하는 동작을 하는 람다함수가 할당되었고,\n",
    "# 두 번째 인수에는 1,2,3,4,5를 요소값으로 갖는 리스트가 정의되었다.\n",
    "# 즉, 두 변수를 합하는 람다함수가 리스트의 모든 요소값에 순차적으로 적용되어\n",
    "# ((((1+2)+3)+4)+5) = 15이므로 결과 값 15가 출력된다."
   ]
  },
  {
   "cell_type": "markdown",
   "metadata": {},
   "source": [
    "- 비교 코드"
   ]
  },
  {
   "cell_type": "code",
   "execution_count": 15,
   "metadata": {},
   "outputs": [
    {
     "name": "stdout",
     "output_type": "stream",
     "text": [
      "15\n"
     ]
    }
   ],
   "source": [
    "x=0\n",
    "for y in [1,2,3,4,5]:\n",
    "    x += y\n",
    "\n",
    "print(x)\n",
    "\n",
    "# 0 + 1 +2 +3+ 4+5 =15 의 과정이 for문에 의해서 순차적으로 이루어져서 결과값 15가 출력된다."
   ]
  },
  {
   "cell_type": "markdown",
   "metadata": {},
   "source": [
    "# 3. 별표의 활용\n",
    "## 3.1. 가변 인수로 활용\n",
    "- 가변 인수"
   ]
  },
  {
   "cell_type": "code",
   "execution_count": 16,
   "metadata": {},
   "outputs": [
    {
     "name": "stdout",
     "output_type": "stream",
     "text": [
      "1 (2, 3, 4, 5, 6)\n",
      "<class 'tuple'>\n"
     ]
    }
   ],
   "source": [
    "def asterisk_test(a, *args):\n",
    "    \n",
    "    print(a,args)\n",
    "    print(type(args))\n",
    "# asterisk_test 함수의 인수에 *를 지정하였으므로, asterisk_test 함수는 \n",
    "# 인수의 개수의 제한 없이 인수를 할당받을 수 있는 함수가 된다.\n",
    "# 그러므로, print(a,args)는 인수에 할당받은 모든 값을 제한없이 출력하는 동작을 나타내고\n",
    "# print(type(args))는 출력된 모든 값의 유형을 표현하는 코드인데, 이 경우는\n",
    "# *args에 할당된 모든 값은 튜플로 인식되므로, 유형은 tuple로 출력된다.\n",
    "    \n",
    "asterisk_test(1,2,3,4,5,6)"
   ]
  },
  {
   "cell_type": "markdown",
   "metadata": {},
   "source": [
    "- 키워드 가변 인수"
   ]
  },
  {
   "cell_type": "code",
   "execution_count": 17,
   "metadata": {},
   "outputs": [
    {
     "name": "stdout",
     "output_type": "stream",
     "text": [
      "1 {'b': 2, 'c': 3, 'd': 4, 'e': 5, 'f': 6}\n",
      "<class 'dict'>\n"
     ]
    }
   ],
   "source": [
    "def asterisk_test(a,**kargs):\n",
    "    print(a,kargs)\n",
    "    print(type(kargs))\n",
    "    \n",
    "    # *가 하나인 경우와 달리 ** 이처럼 두개인 경우에는, \n",
    "    # 마찬가지로 인수의 개수제한 없이 값을 할당 받을 수 있지만,\n",
    "    # 할당받은 인수가 dictionary로 인식한다는 차이가 있다.\n",
    "    \n",
    "    \n",
    "asterisk_test(1,b=2,c=3,d=4,e=5,f=6)\n",
    "\n",
    "#그러므로, 할당받은 모든 인수 값 1,2,3,4,5,6 이 출력되며 유형은 dictionary로 표현된다."
   ]
  },
  {
   "cell_type": "markdown",
   "metadata": {},
   "source": [
    "## 3.2. 별표의 언패킹 기능\n",
    "- 함수에서의 사용"
   ]
  },
  {
   "cell_type": "code",
   "execution_count": 20,
   "metadata": {},
   "outputs": [
    {
     "name": "stdout",
     "output_type": "stream",
     "text": [
      "1 2 3 4 5 6\n",
      "<class 'tuple'>\n"
     ]
    }
   ],
   "source": [
    "def asterisk_test(a,args):\n",
    "    \n",
    "    print(a,*args)\n",
    "    \n",
    "    print(type(args))\n",
    "    \n",
    "    # 함수의 인자에 * 표시가 있는 경우와는 달리, \n",
    "    # 함수의 코드의 인수에 * 표시가 있는 경우는\n",
    "    # 이 경우 print()함수의 인수에 할당된 여러로 이루어진 값을 풀어서 출력해주는 기능을 한다.\n",
    "\n",
    "asterisk_test(1,(2,3,4,5,6))\n"
   ]
  },
  {
   "cell_type": "code",
   "execution_count": 21,
   "metadata": {},
   "outputs": [
    {
     "name": "stdout",
     "output_type": "stream",
     "text": [
      "1 (2, 3, 4, 5, 6)\n",
      "<class 'tuple'>\n"
     ]
    }
   ],
   "source": [
    "def asterisk_test(a,args):\n",
    "    print(a,args)\n",
    "    print(type(args))\n",
    "asterisk_test(1,(2,3,4,5,6))\n",
    "\n",
    "# 이 경우는 정의된 함수의 코드인 print()함수의 인수에 * 표시가 없으므로,\n",
    "# 여러개의 값으로 이루어진 인수가 풀어서 출력되는 것이 아니고,\n",
    "# 여러개로 묶여진 그대로 출력이 된다."
   ]
  },
  {
   "cell_type": "markdown",
   "metadata": {},
   "source": [
    "- 일반 자료형에서의 사용"
   ]
  },
  {
   "cell_type": "code",
   "execution_count": 23,
   "metadata": {},
   "outputs": [
    {
     "name": "stdout",
     "output_type": "stream",
     "text": [
      "[1, 2] [3, 4] [5, 6]\n",
      "[1, 2] [3, 4] [5, 6]\n"
     ]
    }
   ],
   "source": [
    "a,b,c=([1,2], [3,4], [5,6])\n",
    "\n",
    "print(a,b,c)\n",
    "# 튜플의 각 요소인 리스트가 a,b,c에 각각 언패킹 되어 할당된다.\n",
    "\n",
    "data=([1,2], [3,4], [5,6])\n",
    "\n",
    "print(*data)\n",
    "# print의 인수에 *표시가 되어있으므로, 입력된 인수의 모든 요소값이 풀어져서 출력된다."
   ]
  },
  {
   "cell_type": "markdown",
   "metadata": {},
   "source": [
    "- zip 함수와의 응용"
   ]
  },
  {
   "cell_type": "code",
   "execution_count": 25,
   "metadata": {},
   "outputs": [
    {
     "name": "stdout",
     "output_type": "stream",
     "text": [
      "(1, 3, 5)\n",
      "<class 'tuple'>\n",
      "(2, 4, 6)\n",
      "<class 'tuple'>\n"
     ]
    }
   ],
   "source": [
    "for data in zip(*[[1,2],[3,4],[5,6]]):\n",
    "    print(data)\n",
    "    print(type(data))\n",
    "    \n",
    "# zip 메소드에 의해 for함수에 정의된 변수 data에 할당되어지는 하나의 []의 각 요소값\n",
    "# [1,2],[3,4],[5,6]이 풀어져서 같은 자리의 요소값이 \n",
    "# 각각 data 변수에 할당되고 이에 대한 print가 실행된다"
   ]
  },
  {
   "cell_type": "markdown",
   "metadata": {},
   "source": [
    "- 키워드 가변 인수 응용"
   ]
  },
  {
   "cell_type": "code",
   "execution_count": 26,
   "metadata": {},
   "outputs": [
    {
     "name": "stdout",
     "output_type": "stream",
     "text": [
      "10 1 2 3\n"
     ]
    }
   ],
   "source": [
    "def asterisk_test(a,b,c,d):\n",
    "    print(a,b,c,d)\n",
    "    \n",
    "data={\"b\":1, \"c\":2, \"d\":3}\n",
    "# data변수를 딕셔너리 형태로 할당하고,\n",
    "\n",
    "asterisk_test(10, **data)\n",
    "# 정의된 딕셔너리 data를 인수의 개수의 제한없이 asterisk_test 함수의 인수로 할당한다."
   ]
  },
  {
   "cell_type": "markdown",
   "metadata": {},
   "source": [
    "## 4. 선형대수학\n",
    "### 4.1. 파이썬 스타일 코드로 표현한 벡터"
   ]
  },
  {
   "cell_type": "code",
   "execution_count": 27,
   "metadata": {},
   "outputs": [],
   "source": [
    "vector_a=[1,2,10]  # 리스트로 표현한 경우\n",
    "vector_b=(1,2,10)   # 튜플로 표현한 경우\n",
    "vector_c={'x':1, 'y':2, 'z':10}  # 딕셔너리로 표현한 경우"
   ]
  },
  {
   "cell_type": "markdown",
   "metadata": {},
   "source": [
    "- 벡터의 연산: 벡터합\n",
    "$$[2,2]+[2,3]+[3,5]=[7,10]$$"
   ]
  },
  {
   "cell_type": "code",
   "execution_count": 28,
   "metadata": {},
   "outputs": [
    {
     "name": "stdout",
     "output_type": "stream",
     "text": [
      "[7, 10]\n"
     ]
    }
   ],
   "source": [
    "u=[2,2]\n",
    "v=[2,3]\n",
    "z=[3,5]\n",
    "result=[]\n",
    "\n",
    "for i in range(len(u)):\n",
    "    result.append(u[i]+v[i]+z[i])\n",
    "    \n",
    "# 리스트 u의 요소의 갯수 만큼 for 문을 반복하고,\n",
    "# 모든 요소의 값을 append 메소드를 이용하여, 빈 리스트 result 리스트에 할당한다.\n",
    "\n",
    "print(result)\n"
   ]
  },
  {
   "cell_type": "markdown",
   "metadata": {},
   "source": [
    "- 별표를 사용한 함수화"
   ]
  },
  {
   "cell_type": "code",
   "execution_count": 29,
   "metadata": {},
   "outputs": [
    {
     "data": {
      "text/plain": [
       "[7, 10]"
      ]
     },
     "execution_count": 29,
     "metadata": {},
     "output_type": "execute_result"
    }
   ],
   "source": [
    "def vector_addition(*args):\n",
    "    # 정의된 함수의 인수의 개수의 제한없이 인수를 할당할 수 있다.\n",
    "    return [sum(t) for t in zip(*args)] \n",
    "    # 인수에 할당된 튜플의 각각의 대응되는 요소값을 t에 할당하고, 이에 대한 합을\n",
    "    # 리스트의 요소로 하는 리스트를 출력하는 함수이다.\n",
    "\n",
    "# unpacking 통해 zip(u,v,z) 효과를 낼 수 있음.\n",
    "\n",
    "vector_addition(u,v,z)"
   ]
  },
  {
   "cell_type": "markdown",
   "metadata": {},
   "source": [
    "- 간단한 두벡터의 합"
   ]
  },
  {
   "cell_type": "code",
   "execution_count": 30,
   "metadata": {},
   "outputs": [
    {
     "data": {
      "text/plain": [
       "[3, 3]"
      ]
     },
     "execution_count": 30,
     "metadata": {},
     "output_type": "execute_result"
    }
   ],
   "source": [
    "a = [1, 1]\n",
    "b = [2, 2]\n",
    "\n",
    "[x + y for x, y in zip(a, b)]\n",
    "# zip 메소드에 의해, 인수로 할당된 두 리스트 a,b의 각각의 대응되는 요소값이 \n",
    "# x,y 변수에 할당되고, 그에 대한 합의 결과 값을 리스트의 요소값으로 하는 리스트가\n",
    "# 출력된다."
   ]
  },
  {
   "cell_type": "markdown",
   "metadata": {},
   "source": [
    "- 벡터의 연산: 스칼라곱\n",
    "$$2([1,2,3]+[4,4,4])=2[5,6,7]=[10,12,14]$$"
   ]
  },
  {
   "cell_type": "code",
   "execution_count": 31,
   "metadata": {},
   "outputs": [
    {
     "data": {
      "text/plain": [
       "[10, 12, 14]"
      ]
     },
     "execution_count": 31,
     "metadata": {},
     "output_type": "execute_result"
    }
   ],
   "source": [
    "u=[1,2,3]\n",
    "v=[4,4,4]\n",
    "\n",
    "alpha=2\n",
    "\n",
    "result=[alpha*sum(t) for t in zip(u,v)]\n",
    "# 리스트 u,v의 각각의 대응 되는 요소값을 t라는 변수에 할당하여\n",
    "# 그에 대한 합을 스칼라 값 alpha를 곲하여 리스트의 요소값으로 하는 리스트를 출력한다\n",
    "\n",
    "result\n",
    "\n"
   ]
  },
  {
   "cell_type": "markdown",
   "metadata": {},
   "source": [
    "## 4.2. 파이썬 스타일코드로 표현한 행렬\n",
    "- 딕셔너리로 표현하는 경우 좌표정보나 이름정보를 넣을 수 있으나 복잡함"
   ]
  },
  {
   "cell_type": "code",
   "execution_count": 32,
   "metadata": {},
   "outputs": [],
   "source": [
    "matrix_a=[[3,6], [4,5]] #리스트로 표현한 경우\n",
    "matrix_b=[(3,6), (4,5)] #튜플로 표현한 경우\n",
    "matrix_c={(0,0):3, (0,1):6, (1,0):4, (1,1):5}  #딕셔너리로 표현한경우"
   ]
  },
  {
   "cell_type": "markdown",
   "metadata": {},
   "source": [
    "- 행렬의 연산: 행렬의 elemnet-wise 합"
   ]
  },
  {
   "cell_type": "code",
   "execution_count": 33,
   "metadata": {},
   "outputs": [
    {
     "name": "stdout",
     "output_type": "stream",
     "text": [
      "[[8, 14], [10, 12]]\n"
     ]
    }
   ],
   "source": [
    "matrix_a=[[3,6], [4,5]]\n",
    "matrix_b=[[5,8], [6,7]]\n",
    "# 1행 2열의 행렬이 생성된다.\n",
    "\n",
    "result=[[sum(row) for row in zip(*t)] for t in zip(matrix_a, matrix_b)]\n",
    "# zip 메소드에 의해 위의 행렬의 두개의 리스트 matrix_a와 matrix_b가 튜플로 묶여지고,\n",
    "# 묶여진 튜플이 t에 할당되어 다시 각각의 요소들끼리 더한 값이 result리스트의 요소가 되어\n",
    "# result 리스트가 출력된다.\n",
    "\n",
    "print(result)"
   ]
  },
  {
   "cell_type": "markdown",
   "metadata": {},
   "source": [
    "# 일반문제\n",
    "------------------------------------------------------------------------------------\n",
    "## 주민등록번호로 성별 찾기 with map\n",
    "PR6에서 split을 활용하여 주민등록번호 뒷자리의 맨 첫 번째 숫자를 추출하여 성별을 알아내는 과정을 구현하였다. 이번에는 여러개의 요소를 가지는 다음과 같은 리스트에서 성별을 찾는 과정을 맵리듀스를 이용해 간단하게 구현해보자.\n",
    "\n",
    "    pins = [\"891120-1234567\", \"931120-2335567\", \"911120-1234234\", \"951120-1234567\"]\n",
    ">**Q**: lambda와 map을 사용하여 위의 리스트에서 출력결과 예시와 같이 성별을 나타내는 값을 추출하시오.\n",
    "\n",
    "\n",
    "### 출력결과 예시\n",
    "```\n",
    "## CODE\n",
    "\n",
    "## ['1', '2', '1', '1']\n",
    "```\n",
    "### HINT\n",
    "1. lambda 함수로 주민등록번호 문자열에서 성별을 추출하는 과정을 구현한다.\n",
    "2. map 함수에 해당 lambda함수와 주민등록번호 리스트를 입력한다.\n",
    "3. 실습코드 2.1.에서 map 과 lambda를 어떻게 함께 사용하는지와 결과를 list로 출력하는 과정을 참고하세요."
   ]
  },
  {
   "cell_type": "code",
   "execution_count": 35,
   "metadata": {},
   "outputs": [
    {
     "data": {
      "text/plain": [
       "['1', '2', '1', '1']"
      ]
     },
     "execution_count": 35,
     "metadata": {},
     "output_type": "execute_result"
    }
   ],
   "source": [
    "pins = [\"891120-1234567\", \"931120-2335567\", \"911120-1234234\", \"951120-1234567\"]\n",
    "\n",
    "\n",
    "list(map(lambda x: x.split(\"-\")[1][0], pins))\n",
    "\n",
    "# map 메소드를 이용해서, pins 리스트의 모든 요소값에 \"-\" 기호를 기준으로 값을 나누어\n",
    "# 리스트의 요소값으로 하는 함수를 적용하는데, \n",
    "# 이때 첫번째 요소인 주민등록 번호의 뒷자리에 적용하고,\n",
    "# 다시 주민등록번호의 뒷자리의 0번째 자리인 가장 앞자리의 수를 출력해서 리스트의 요소 값으로하는\n",
    "# 리스트를 출력한다."
   ]
  },
  {
   "cell_type": "markdown",
   "metadata": {},
   "source": [
    "# 도전문제\n",
    "-----------------------------------------------------------------------------------\n",
    "## 벡터의 내적\n",
    "크기가 같은 두 벡터의 내적은 벡터의 각 성분별 곱한 값을 더해준 값이다.\n",
    "\n",
    "$$v1∗w1+⋯+vn∗wn$$\n",
    "\n",
    ">**Q**: 크기가 같은 두 벡터 (list 형태)를 받으면 이를 내적한 값을 도출하는 함수 dot을 구현하고, 이를 활용하여 a=[1, 2], b=[3,4]를 내적한 값을 구하시오.\n",
    "\n",
    "### HINT\n",
    "1. 실습코드 4.1.에서는 벡터의 합과 곱에 대한 연산만을 다루고 있습니다. 이중 간단한 벡터의 합에서 리스트 컴프리헨션을 사용한 방법에서 연산을 바꾸면 각 벡터별 곱을 간단히 구할 수 있습니다."
   ]
  },
  {
   "cell_type": "code",
   "execution_count": 36,
   "metadata": {},
   "outputs": [
    {
     "data": {
      "text/plain": [
       "11"
      ]
     },
     "execution_count": 36,
     "metadata": {},
     "output_type": "execute_result"
    }
   ],
   "source": [
    "a = [1, 2]\n",
    "b = [3, 4]\n",
    "\n",
    "dot = lambda a,b : sum([x*y for x, y in zip(a, b)])\n",
    "# 리스트 a와b의 각 요소값을 튜플로 만들어 각각의 대응되는 요소값의 곲을\n",
    "# 리스트의 요소로 하는 리스트를 출력하고, 그 리스트의 모든 값을 sum메소를 적용하여\n",
    "# 리스트의 모든 요소 값의 합을 출력하여 그 값을 dot라는 변수에 저장하는 함수이다.\n",
    "\n",
    "dot(a,b)"
   ]
  },
  {
   "cell_type": "code",
   "execution_count": null,
   "metadata": {},
   "outputs": [],
   "source": []
  }
 ],
 "metadata": {
  "kernelspec": {
   "display_name": "Python 3",
   "language": "python",
   "name": "python3"
  },
  "language_info": {
   "codemirror_mode": {
    "name": "ipython",
    "version": 3
   },
   "file_extension": ".py",
   "mimetype": "text/x-python",
   "name": "python",
   "nbconvert_exporter": "python",
   "pygments_lexer": "ipython3",
   "version": "3.8.3"
  }
 },
 "nbformat": 4,
 "nbformat_minor": 4
}
