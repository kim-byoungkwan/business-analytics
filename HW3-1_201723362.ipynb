{
 "cells": [
  {
   "cell_type": "markdown",
   "metadata": {},
   "source": [
    "# 텍스트 마이닝 이란?\n",
    "> 비정형 데이터로 인식되는 text로 부터 유의미한 정보를 추출해내는 작업을 의미한다  \n",
    "- 일반적으로 text가 비정형 데이터로 인식될 때, 숫자는 정형데이터로 인식된다.\n",
    "- 텍스트 마이닝의 과정이란 텍스트를 일정한 길이의 vector로 변환하는 과정으로 볼 수도 있다."
   ]
  },
  {
   "cell_type": "markdown",
   "metadata": {},
   "source": [
    "# 텍스트 마이닝의 이해를 위한 기본요구 지식\n",
    "\n",
    "> 자연어처리  \n",
    "\n",
    "> 통계학  \n",
    "\n",
    "> 선형대수학  \n",
    "\n",
    "> 딥러닝 기법(CNN, RNN)"
   ]
  },
  {
   "cell_type": "markdown",
   "metadata": {},
   "source": [
    "# 텍스트 마이닝의 단계\n",
    "### 1. tokenize, normalize\n",
    "### 2. 추출 된 단어를 분류하는 과정\n",
    "- 순서를 무시하고 분류하는 방법\n",
    "- 순서를 고려하여 분류하는 방법"
   ]
  },
  {
   "cell_type": "markdown",
   "metadata": {},
   "source": [
    "# POS-tagging 이란?\n",
    "- tokenize와 normalize의 과정을 통해 나누어진 형태소에 품사를 할당하는 과정"
   ]
  },
  {
   "cell_type": "markdown",
   "metadata": {},
   "source": [
    "# Chunking 이란?\n",
    "- 주어진 텍스트를 말의 모듬인 chunk의 형태로 변환하는 과정으로 텍스트로부터 정보를 추출하기 위한 전단계로 볼 수 있다."
   ]
  },
  {
   "cell_type": "markdown",
   "metadata": {},
   "source": [
    "# BOW 란?\n",
    "- text를 이루는 단어들을 순서를 무시한 채로 빈도만을 측정하여 나타내는 기법으로 단어의 빈도를 나타내는 count가 weight로 작용한다."
   ]
  },
  {
   "cell_type": "markdown",
   "metadata": {},
   "source": [
    "# TFIDF 란?\n",
    "- 일반적으로 단어의 빈도를 측정할 때, 자주 등장하는 단어는 매우 많이 등장하고 대부분의 단어들을 거의 측정되지 않는데, 이러한 상황에서 많이 등장하는 단어가 분석을 왜곡 시킬 수 있기 때문에, 단어의 빈도가 많이 등장하는 단어의 빈도수를 낮출 필요가 있다. 이때, TRIDF라는 방법을 사용하는데, 이 방법은 단어의 count를 단어가 나타난 문서의 수로 나누어주는 기법으로 실현된다."
   ]
  },
  {
   "cell_type": "markdown",
   "metadata": {},
   "source": [
    "# 차원의 저주란?\n",
    "- 데이터를 1차원의 선에 나타낸 상태에서 이를 2차원의 공간으로 확장하면, 데이터 간의 거리는 증가하게 된다. 마찬가지로 2차원에서 3차원의 공간으로 확장하면, 데이터 간의 거리는 더욱더 증가하게 되는데 이러한 상황이 발생함에 따라서, 원래 데이터의 정보가 왜곡되게 되는데, 이러한 현상을 차원의 저주라고 한다.\n",
    "- 이러한 차원의 저주를 방지하기 위해서는 차원축소의 과정이 필요하다"
   ]
  },
  {
   "cell_type": "code",
   "execution_count": null,
   "metadata": {},
   "outputs": [],
   "source": []
  }
 ],
 "metadata": {
  "kernelspec": {
   "display_name": "Python 3",
   "language": "python",
   "name": "python3"
  },
  "language_info": {
   "codemirror_mode": {
    "name": "ipython",
    "version": 3
   },
   "file_extension": ".py",
   "mimetype": "text/x-python",
   "name": "python",
   "nbconvert_exporter": "python",
   "pygments_lexer": "ipython3",
   "version": "3.8.3"
  }
 },
 "nbformat": 4,
 "nbformat_minor": 4
}
