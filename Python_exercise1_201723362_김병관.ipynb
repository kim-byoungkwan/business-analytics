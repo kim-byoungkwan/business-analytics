{
 "cells": [
  {
   "cell_type": "markdown",
   "metadata": {},
   "source": [
    "# 파이썬 스타일 코드1 - 연습해보기  \n",
    "  \n",
    "\n",
    "# 일반문제\n",
    "----------------------------------------------------------------------------------"
   ]
  },
  {
   "cell_type": "code",
   "execution_count": null,
   "metadata": {},
   "outputs": [],
   "source": [
    "# 1. Css Selector 수정\n",
    "\n",
    "Css Selector는 웹 페이지에서 특정 요소를 선택하기 위해 해당 요소까지 찾아갈 수 있도록 해주는 주소와 같은 것이다. 대부분의 웹브라우져에서 는 해당 요소에 대한 css selector 값을 쉽게 얻어올 수 있다 (F12 > Select an Element). 다음과 같은 selector가 있다고 한다.\n",
    "```python\n",
    "   #today_main_news > div.hdline_news > ul > li:nth-child(1)\n",
    "```\n",
    "이러한 selector를 웹크롤링에서 사용하기 위해서는 :nth-child라는 부분을 제거하는 작업이 필요한데, 이를 자동화 해보자.\n",
    "\n",
    "> **Q**: 해당 Selector를 문자열로 표시하고, split과 join 함수를 활용하여 다음 예시와같은 selector를 출력하시오.\n",
    "\n",
    "### 출력결과 예시  \n",
    "```python\n",
    "selector = \"#today_main_news > div.hdline_news > ul > li:nth-child(1)\"  \n",
    "\n",
    "## CODE  \n",
    "\n",
    "## '#today_main_news  >  div.hdline_news  >  ul  >  li'\n",
    "```\n",
    "\n",
    "### HINT\n",
    "\n",
    "1. 특정 구분자(seperator)를 통해 구분된 리스트를 만든다.\n",
    "2. 구분된 리스트에서 해당 부분을 선택하고 1과는 다른 특정 구분자로 나눠준다.\n",
    "3. 2의 리스트에서 필요한 부분만 선택하여 기존 리스트에 할당한다.\n",
    "4. 구분자를 기준으로 리스트를 문자열로 합쳐준다."
   ]
  },
  {
   "cell_type": "code",
   "execution_count": 6,
   "metadata": {},
   "outputs": [
    {
     "data": {
      "text/plain": [
       "'#today_main_news  >  div.hdline_news  >  ul  >  li'"
      ]
     },
     "execution_count": 6,
     "metadata": {},
     "output_type": "execute_result"
    }
   ],
   "source": [
    "selector = \"#today_main_news > div.hdline_news > ul > li:nth-child(1)\" \n",
    "# F12를 통해 불러온 Css Selector의 값을 selector 이라는 변수에 할당한다.\n",
    "\n",
    "selector_list = selector.split(\">\")\n",
    "# \">\" 값을 기준으로 하여 나뉘어지는 문장들을 리스트의 한 요소 값으로 하는 리스트를 생성하여, \n",
    "# selector_list 변수에 할당해준다.\n",
    "\n",
    "selector_list[-1] = selector_list[-1].split(\":\")[0]\n",
    "# Css Selector을 통하여 불러온 값의 맨 마지막 Selctor에는 \":\" 기호가 포함되어 있으므로,\n",
    "# 이 기호를 기준으로 하여 다시 스플릿 한 값을 리스트에 할당한다.\n",
    "\n",
    "\" > \".join(selector_list)\n",
    "# Css Selector의 요소 값으로만 구성된 리스트로 이루어진 selector_list의 각 요소 값을\n",
    "# \">\"기호를 기준으로하여 다시 분리해준다.\n"
   ]
  },
  {
   "cell_type": "markdown",
   "metadata": {},
   "source": [
    "# 2. list comprehension으로 만드는 구구단  \n",
    "\n",
    "PR5 문제 3번에서 만들었던 구구단 계산기를 list comprehension으로 구현해보고자 한다.\n",
    "\n",
    "> Q: list comprehension을 사용하여 구구단을 연산하는 함수 gugu_com을 작성하고 구구단 7단을 출력하시오.\n",
    "\n",
    "### 출력 결과 예시\n",
    "```\n",
    "gugu_com(x=2)\n",
    "\n",
    "# 2  x  1 = 2\n",
    "# 2  x  2 = 4\n",
    "# 2  x  3 = 6\n",
    "# 2  x  4 = 8\n",
    "# 2  x  5 = 10\n",
    "# 2  x  6 = 12\n",
    "# 2  x  7 = 14\n",
    "# 2  x  8 = 16\n",
    "# 2  x  9 = 18\n",
    "```"
   ]
  },
  {
   "cell_type": "code",
   "execution_count": 8,
   "metadata": {},
   "outputs": [
    {
     "name": "stdout",
     "output_type": "stream",
     "text": [
      "1\n",
      "2\n",
      "3\n",
      "4\n",
      "5\n",
      "6\n",
      "7\n",
      "8\n",
      "9\n"
     ]
    }
   ],
   "source": [
    "for i in range(1, 10):\n",
    "    print(i)"
   ]
  },
  {
   "cell_type": "code",
   "execution_count": 13,
   "metadata": {},
   "outputs": [
    {
     "name": "stdout",
     "output_type": "stream",
     "text": [
      "7 x 1 = 7\n",
      "7 x 2 = 14\n",
      "7 x 3 = 21\n",
      "7 x 4 = 28\n",
      "7 x 5 = 35\n",
      "7 x 6 = 42\n",
      "7 x 7 = 49\n",
      "7 x 8 = 56\n",
      "7 x 9 = 63\n"
     ]
    }
   ],
   "source": [
    "def gugu_com(x):\n",
    "    [print(f\"{x} x {i} = {x*i}\") for i in range(1, 10)]\n",
    "gugu_com(7)\n",
    "# def 메소드에 의해 gugu_com 이라는 x라는 파라미터에 의해서 결정되는 함수를 정의한다.\n",
    "# gugu_com 함수는 x X i = x*i 를 출력해주는 함수이고, 이따 x는 내가 결정할 수 있고,\n",
    "# i는 1~9의 숫자로 결정되어있다.\n",
    "# 이때, x라는 파라미터는 구구단에서 몇 단을 출력시킬 지를 결정하고, \n",
    "# i인자는 for문에서 1~9까지의 숫자를 표현하므로,\n",
    "# 결과적으로 x인자에 7을 입력하면, 구구단 중 7단을 출력할 수 있다."
   ]
  },
  {
   "cell_type": "markdown",
   "metadata": {},
   "source": [
    "# 3. 두 주사위의 곱\n",
    "두 주사위의 곱은 다음과 같은 결과를 가진다.\n",
    "\n",
    "x|1|2|3|4|5|6\n",
    "-|-|-|-|-|-|-\n",
    "1|1|2|3|4|5|6\n",
    "2|2|4|6|8|10|12\n",
    "3|3|6|9|12|15|18\n",
    "4|4|8|12|16|20|24\n",
    "5|5|10|15|20|25|30\n",
    "6|6|12|18|24|30|36\n",
    "\n",
    "\n",
    "\n",
    "\n",
    "\n",
    "> *Q*: list comprehension을 사용하여, 힌트를 제외하고는 한줄의 코드로 해당 결과를 가지는 이차원 리스트를 만드시오.\n",
    "\n",
    "### 출력결과 예시\n",
    "```\n",
    "## CODE\n",
    "\n",
    "## [[1, 2, 3, 4, 5, 6],\n",
    "##  [2, 4, 6, 8, 10, 12],\n",
    "##  [3, 6, 9, 12, 15, 18],\n",
    "##  [4, 8, 12, 16, 20, 24],\n",
    "##  [5, 10, 15, 20, 25, 30],\n",
    "##  [6, 12, 18, 24, 30, 36]]\n",
    "```\n",
    "### HINT  \n",
    "```\n",
    "1.한개의 주사위는 다음과 같이 표현할 수 있습니다.  \n",
    "\n",
    "  die = [i for i in range(1,7)]\n",
    "```"
   ]
  },
  {
   "cell_type": "code",
   "execution_count": 23,
   "metadata": {},
   "outputs": [
    {
     "data": {
      "text/plain": [
       "[[1, 2, 3, 4, 5, 6],\n",
       " [2, 4, 6, 8, 10, 12],\n",
       " [3, 6, 9, 12, 15, 18],\n",
       " [4, 8, 12, 16, 20, 24],\n",
       " [5, 10, 15, 20, 25, 30],\n",
       " [6, 12, 18, 24, 30, 36]]"
      ]
     },
     "execution_count": 23,
     "metadata": {},
     "output_type": "execute_result"
    }
   ],
   "source": [
    "die = [i for i in range(1,7)]\n",
    "\n",
    "# die는 i를 요소로 하는 리스트를 표현하고, i는 for 문에서 정의되고, range(1,7)에 의해\n",
    "# 1~6까지의 값을 갖는 리스트를 표현한다.\n",
    "# 결과적으로 die = [1,2,3,4,5,6] 이다.\n",
    "\n",
    "[[j*i for i in die] for j in die]\n",
    "# 이때, 리스트의 요소를 표현하는 j는 die리스트의 각 요소값을 의미한다.\n",
    "# 따라서, i를 표현하는 6개의 요소값 각각에 대하여 \n",
    "# j가 표현하는 6개의 요소값이 각각 곱해지므로,\n",
    "# 그 결과, 6개의 요소값을 갖는 6개의 리스트가 생성된다."
   ]
  },
  {
   "cell_type": "markdown",
   "metadata": {},
   "source": [
    "# 4. 두 주사위의 합\n",
    "간단한 테이블 형태의 데이터를 2차원 리스트로 표현해보자. 2개의 주사위를 굴리면 다음 표와 같이 36가지의 결과가 나온다.\n",
    "\n",
    "x|1|2|3|4|5|6\n",
    "-|-|-|-|-|-|-\n",
    "1|2|3|4|5|6|7\n",
    "2|3|4|5|6|7|8\n",
    "3|4|5|6|7|8|9\n",
    "4|5|6|7|8|9|10\n",
    "5|6|7|8|9|10|11\n",
    "6|7|8|9|10|11|12\n",
    "\n",
    "> *Q*: 이것을 6 x 6 크기의 2차원 리스트로 생성하고, 인덱싱을 통해 2 + 6의 값을 2가지 방법으로 나타내시오. (2차원 리스트 생성시 방법의 제한은 없습니다.)"
   ]
  },
  {
   "cell_type": "code",
   "execution_count": 24,
   "metadata": {},
   "outputs": [
    {
     "name": "stdout",
     "output_type": "stream",
     "text": [
      "8\n",
      "8\n"
     ]
    }
   ],
   "source": [
    "dice_sum = [[2, 3, 4, 5, 6, 7],\n",
    "            [3, 4, 5, 6, 7, 8],\n",
    "            [4, 5, 6, 7, 8, 9],\n",
    "            [5, 6, 7, 8, 9, 10],\n",
    "            [6, 7, 8, 9, 10, 11],\n",
    "            [7, 8, 9, 10, 11, 12]]\n",
    "# 2중 리스트의 표현법을 이용하여 표현하였다.\n",
    "\n",
    "print(dice_sum[1][5])\n",
    "# dice_sum 리스트의 1번째 요소값은 [3,4,5,6,7,8]리스트를 의미하므로 이 표현은 결국\n",
    "# [3,4,5,6,7,8][5]이므로, [3,4,5,6,7,8]리스트의 5번째 요소값 8을 출력하는 코드이다.\n",
    "print(dice_sum[5][1])\n",
    "# 마찬가지로, [7,8,9,10,11,12]리스트의 1번째 요소값 8을 출력하는 코드이다.\n"
   ]
  },
  {
   "cell_type": "code",
   "execution_count": 25,
   "metadata": {},
   "outputs": [
    {
     "name": "stdout",
     "output_type": "stream",
     "text": [
      "8\n",
      "8\n"
     ]
    }
   ],
   "source": [
    "die = [i for i in range(1,7)]\n",
    "# die는 [1,2,3,4,5,6]리스트를 표현한다.\n",
    "\n",
    "dice_sum = [[j+i for i in die] for j in die]\n",
    "# dice_sum은 die 리스트의 모든 요소값 각각에 die 리스트의 모든 요소값을 모두 더한\n",
    "# 총 6개의 리스트를 표현한다.\n",
    "\n",
    "print(dice_sum[1][5])\n",
    "# 결과적으로, 이 코드는 [3,4,5,6,7,8]리스트의 5번째 요소값 8을 의미하고\n",
    "print(dice_sum[5][1])\n",
    "# 이 코드는 [7,8,9,10,11,12]리스트의 1번째 요소값 1을 의미한다."
   ]
  },
  {
   "cell_type": "markdown",
   "metadata": {},
   "source": [
    "# 도전문제\n",
    "-----------------------------------------------------------------------------\n",
    "## 표절 검사 프로그램\n",
    "\n",
    "**강의노트 07 자료구조 collections 설명 참고**\n",
    "\n",
    "아주대학교 글로벌 경영학과의 한 교수님은 과제의 표절 검사를 쉽게 하기 위해 Python을 통한 간단한 표절 검사 프로그램을 작성해보고자 한다.\n",
    "\n",
    "현재 구상 중인 프로그램은 복잡한 알고리즘을 필요로하지 않고, 간단하게 단어 빈도를 기반으로 하여, 그 유사도를 측정하고자한다."
   ]
  },
  {
   "cell_type": "code",
   "execution_count": 26,
   "metadata": {},
   "outputs": [],
   "source": [
    "from collections import defaultdict, Counter\n",
    "\n",
    "text = \"\"\"Python is a very simple programming language so even if you are new to programming, you can learn python without facing any issues.\"\"\"\n",
    "\n",
    "text2 = \"\"\"C is a very difficult programming language so even if you are good at programming, you can learn c with facing any issues.\"\"\"\n",
    "\n",
    "text3 = \"\"\"R Programming is good at statistical analysis. you can learn easily\"\"\"\n",
    "\n",
    "# 표절을 확인하기 위해서, 기준이 되는 문장들을 각각 text, text1, text2 변수에 할당한다.\n"
   ]
  },
  {
   "cell_type": "markdown",
   "metadata": {},
   "source": [
    "### 문제1\n",
    "\n",
    ">**Q**: defaultdict를 활용하여 text를 입력받으면 단어별 빈도를 측정하여 반환하는 함수 word_counter를 만드시오.\n",
    "\n",
    "### HINT\n",
    "```\n",
    "1. collections 모듈의 defaultdict는 단순한 dict와 다르게, 인덱싱에서 key 값이 없으면 오류가 아닌 0을 기본 값으로 가지게 한다.  \n",
    "\n",
    "word_dict = dict()\n",
    "word_dict[\"key\"]\n",
    "```\n",
    "```\n",
    "## KeyError\n",
    "\n",
    "\n",
    "word_dict = defaultdict(lambda: 0)\n",
    "word_dict[\"key\"] \n",
    "## 0\n",
    "\n",
    "\n",
    "word_dict[\"key\"] += 1\n",
    "word_dict[\"key\"]\n",
    "## 1\n",
    "```\n",
    "\n",
    "1.유사도 측정을 위해 문장을 단어별로 분할해야하며, 편의를 위해 모두 소문자로 바꿔준다. \n",
    "* split\n",
    "* lower"
   ]
  },
  {
   "cell_type": "code",
   "execution_count": 27,
   "metadata": {},
   "outputs": [],
   "source": [
    "def word_counter(text):\n",
    "    # text 파라미터에 의해 결정되는 word_counter함수를 정의한다. \n",
    "    word_count = defaultdict(lambda: 0)\n",
    "    # defaultdict 메소드의 lamda 값을 0으로 지정해준다.\n",
    "    for word in text.lower().split():\n",
    "        # text에 저장된 모든 문자열을 소문자로 변환하고, 문자열을 스페이스 공백을\n",
    "        # 기준으로 하여 나눈 뒤, 나눈 값을 요소로하는 리스트를 형성한다.\n",
    "        # 형성된 리스트의 각 요소 값을 word라는 변수에 할당하고,\n",
    "        word_count[word] += 1\n",
    "        # word에 할당된 문자를 key 값으로 하고, 할당된 문자가 반복되는 횟수를 value값\n",
    "        # 으로 지정되게 하는 dictionary를 생성하여, key : value 형태로 반복되는\n",
    "        # 문자열의 횟수를 지정한다.\n",
    "        \n",
    "    return word_count\n",
    "    # 결과적으로 word_counter 함수의 word_count 변수를 출력하면, 각 문자열과\n",
    "    # 그에 대한 반복횟수가 저장된 dictionary 가 출력된다.\n"
   ]
  },
  {
   "cell_type": "code",
   "execution_count": 29,
   "metadata": {},
   "outputs": [
    {
     "data": {
      "text/plain": [
       "defaultdict(<function __main__.word_counter.<locals>.<lambda>()>,\n",
       "            {'python': 2,\n",
       "             'is': 1,\n",
       "             'a': 1,\n",
       "             'very': 1,\n",
       "             'simple': 1,\n",
       "             'programming': 1,\n",
       "             'language': 1,\n",
       "             'so': 1,\n",
       "             'even': 1,\n",
       "             'if': 1,\n",
       "             'you': 2,\n",
       "             'are': 1,\n",
       "             'new': 1,\n",
       "             'to': 1,\n",
       "             'programming,': 1,\n",
       "             'can': 1,\n",
       "             'learn': 1,\n",
       "             'without': 1,\n",
       "             'facing': 1,\n",
       "             'any': 1,\n",
       "             'issues.': 1})"
      ]
     },
     "execution_count": 29,
     "metadata": {},
     "output_type": "execute_result"
    }
   ],
   "source": [
    "word_counter(text)"
   ]
  },
  {
   "cell_type": "markdown",
   "metadata": {},
   "source": [
    "### 문제2\n",
    ">Q: 도전문제 1의 word_counter 활용하여 text와 text2의 유사도와 text와 text3의 유사도를 구하시오.\n",
    "\n",
    "### HINT\n",
    "\n",
    "1.collections 모듈의 Counter는 dict의 형태이지만 Counter들 간의 덧셈, 뺄셈 연산이 가   능하며 defaultdict를 Counter로 변환할 수 있다.\n",
    "\n",
    "```python\n",
    "Counter({\"a\": 1, \"b\": 2, \"c\": 3}) - Counter({\"a\": 1, \"b\": 1, \"c\": 1}) \n",
    "\n",
    "## Counter({'b': 1, 'c': 2})\n",
    "```\n",
    "\n",
    "1.dictionary 형태의 모든 자료구조는 .values() 를 통해 value 값만 추출할 수 있다.  \n",
    "\n",
    "```python\n",
    "sum(Counter({\"a\": 1, \"b\": 2, \"c\": 3}).values()) # 전체 단어수 합  \n",
    "  \n",
    "## 6\n",
    "```\n",
    "\n",
    "\n",
    "1.Counter(A)가 Counter(B)와 얼마나 유사한지는 다음과 같은 공식을 따른다고 한다.\n",
    "  (시그마는 해당 Counter dict 안의 value 값을 모두 합하라는 의미)\n",
    "\n",
    "$$(1−∑(Counter(A)−Counter(B))/∑Counter(A))×100$$\n"
   ]
  },
  {
   "cell_type": "code",
   "execution_count": 30,
   "metadata": {},
   "outputs": [],
   "source": [
    "def text_similarity(text_count_1, text_count_2):\n",
    "    text1_count = Counter(text_count_1)\n",
    "    # text_count_1에 할당된 값을 counter 형식으로 변환하여 text1_count변수에 저장한다.\n",
    "    text2_count = Counter(text_count_2)\n",
    "    # text_count_2에 할당된 값을 counter 형식으로 변환하여 text2_count변수에 저장한다.\n",
    "    \n",
    "    word_total = sum(text1_count.values())\n",
    "    #text1_count에 할당된 값중 value값만을 추출하여 그 값을 모두 합한 뒤, word_total\n",
    "    #변수에 저장한다.\n",
    "    \n",
    "    word_diff = sum((text1_count - text2_count).values())\n",
    "    # text1_count와 text2_count에 할당된 인자들의 value값의 차이를 모두 합한 값을\n",
    "    # word_diff 변수에 할당한다.\n",
    "    \n",
    "    return (1 - word_diff / word_total) * 100\n",
    "    # word_diff 변수에 할당된 값을 이용하여, 위에서 주어진 공식에 대입하여\n",
    "    # 두 count의 유사한 정도의 값을 산출하는 함수를 정의한다."
   ]
  },
  {
   "cell_type": "code",
   "execution_count": 39,
   "metadata": {},
   "outputs": [
    {
     "data": {
      "text/plain": [
       "73.91304347826086"
      ]
     },
     "execution_count": 39,
     "metadata": {},
     "output_type": "execute_result"
    }
   ],
   "source": [
    "text_similarity(word_counter(text), word_counter(text2))"
   ]
  },
  {
   "cell_type": "code",
   "execution_count": 37,
   "metadata": {},
   "outputs": [
    {
     "data": {
      "text/plain": [
       "21.739130434782606"
      ]
     },
     "execution_count": 37,
     "metadata": {},
     "output_type": "execute_result"
    }
   ],
   "source": [
    "text_similarity(word_counter(text), word_counter(text3))"
   ]
  }
 ],
 "metadata": {
  "kernelspec": {
   "display_name": "Python 3",
   "language": "python",
   "name": "python3"
  },
  "language_info": {
   "codemirror_mode": {
    "name": "ipython",
    "version": 3
   },
   "file_extension": ".py",
   "mimetype": "text/x-python",
   "name": "python",
   "nbconvert_exporter": "python",
   "pygments_lexer": "ipython3",
   "version": "3.8.3"
  }
 },
 "nbformat": 4,
 "nbformat_minor": 4
}
